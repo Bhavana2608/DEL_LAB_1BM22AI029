{
 "cells": [
  {
   "cell_type": "code",
   "execution_count": 3,
   "id": "485e8210",
   "metadata": {},
   "outputs": [
    {
     "name": "stdout",
     "output_type": "stream",
     "text": [
      "Enter Input: 2\n",
      "Sigmoid:  0.8807970779778823\n",
      "Relu:  2\n",
      "Tanh:  0.964027580075817\n"
     ]
    }
   ],
   "source": [
    "import math\n",
    "\n",
    "def sigmoid(x):                 \n",
    "  op = 1 / (1 + math.exp(-x))\n",
    "  return op\n",
    "\n",
    "def relu(x):                    \n",
    "  op = max(0,x)\n",
    "  return op\n",
    "\n",
    "def tanh(x):                    \n",
    "  op = (math.exp(x) - math.exp(-x)) / (math.exp(x) + math.exp(-x))\n",
    "  return op\n",
    "\n",
    "x = int(input(\"Enter Input: \"))\n",
    "\n",
    "print(\"Sigmoid: \", sigmoid(x))\n",
    "print(\"Relu: \", relu(x))\n",
    "print(\"Tanh: \", tanh(x))\n"
   ]
  },
  {
   "cell_type": "code",
   "execution_count": 6,
   "id": "1fceee07",
   "metadata": {},
   "outputs": [
    {
     "name": "stdout",
     "output_type": "stream",
     "text": [
      "Output (Sigmoid): 0.7641300892522849\n",
      "Output (ReLU): 1.3604398615273876\n",
      "Output (Tanh): 0.7889363584575122\n"
     ]
    }
   ],
   "source": [
    "import numpy as np\n",
    "\n",
    "class Neuron:\n",
    "  def __init__(self, num_inputs, activation_function):\n",
    "    self.weights = np.random.rand(num_inputs)\n",
    "    self.bias = np.random.rand()\n",
    "    self.activation_function = activation_function\n",
    "\n",
    "  def activate(self, inputs):\n",
    "    weighted_sum = np.dot(self.weights, inputs) + self.bias\n",
    "    output = self.activation_function(weighted_sum)\n",
    "    return output\n",
    "\n",
    "def sigmoid(x):\n",
    "  return 1 / (1 + np.exp(-x))\n",
    "\n",
    "def relu(x):\n",
    "  return max(0, x)\n",
    "\n",
    "def tanh(x):\n",
    "  return np.tanh(x)\n",
    "\n",
    "neuron_sigmoid = Neuron(3, sigmoid)\n",
    "neuron_relu = Neuron(3, relu)\n",
    "neuron_tanh = Neuron(3, tanh)\n",
    "\n",
    "inputs = np.array([0.5, 0.2, 0.8])\n",
    "\n",
    "output_sigmoid = neuron_sigmoid.activate(inputs)\n",
    "output_relu = neuron_relu.activate(inputs)\n",
    "output_tanh = neuron_tanh.activate(inputs)\n",
    "\n",
    "print(\"Output (Sigmoid):\", output_sigmoid)\n",
    "print(\"Output (ReLU):\", output_relu)\n",
    "print(\"Output (Tanh):\", output_tanh)"
   ]
  },
  {
   "cell_type": "code",
   "execution_count": 7,
   "id": "1a77b943",
   "metadata": {},
   "outputs": [
    {
     "name": "stdout",
     "output_type": "stream",
     "text": [
      "Enter input 1 (0 or 1): 1\n",
      "Enter input 2 (0 or 1): 0\n",
      "Input: 1, 0, Output: 0.7310585786300049\n"
     ]
    }
   ],
   "source": [
    "# Implementation of XOR Gate\n",
    "\n",
    "import numpy as np\n",
    "\n",
    "class Neuron:\n",
    "  def __init__(self, weights, bias, activation_function):\n",
    "    self.weights = weights\n",
    "    self.bias = bias\n",
    "    self.activation_function = activation_function\n",
    "\n",
    "  def activate(self, inputs):\n",
    "    weighted_sum = np.dot(self.weights, inputs) + self.bias\n",
    "    output = self.activation_function(weighted_sum)\n",
    "    return output\n",
    "\n",
    "def sigmoid(x):\n",
    "  return 1 / (1 + np.exp(-x))\n",
    "\n",
    "def relu(x):\n",
    "  return max(0, x)\n",
    "\n",
    "def xor_network(input1, input2):\n",
    "  h1 = Neuron(np.array([1, 1]), -1, relu)\n",
    "  h2 = Neuron(np.array([-1, 1]), 0, relu)\n",
    "  output_neuron = Neuron(np.array([1, -1]), 1, sigmoid)\n",
    "\n",
    "  hidden_output1 = h1.activate(np.array([input1, input2]))\n",
    "  hidden_output2 = h2.activate(np.array([input1, input2]))\n",
    "  final_output = output_neuron.activate(np.array([hidden_output1, hidden_output2]))\n",
    "  return final_output\n",
    "\n",
    "input1 = int(input(\"Enter input 1 (0 or 1): \"))\n",
    "input2 = int(input(\"Enter input 2 (0 or 1): \"))\n",
    "\n",
    "output = xor_network(input1, input2)\n",
    "print(f\"Input: {input1}, {input2}, Output: {output}\")"
   ]
  },
  {
   "cell_type": "code",
   "execution_count": 8,
   "id": "86617ac7",
   "metadata": {},
   "outputs": [
    {
     "name": "stdout",
     "output_type": "stream",
     "text": [
      "Enter input 1 (0 or 1): 1\n",
      "Enter input 2 (0 or 1): 1\n",
      "Input: 1, 1, Output: 0.8807970779778823\n"
     ]
    }
   ],
   "source": [
    "# Implementation of XOR gate where hidden layers has RELU and tanh and output layer has Sigmoid\n",
    "\n",
    "import numpy as np\n",
    "\n",
    "class Neuron:\n",
    "  def __init__(self, weights, bias, activation_function):\n",
    "    self.weights = weights\n",
    "    self.bias = bias\n",
    "    self.activation_function = activation_function\n",
    "\n",
    "  def activate(self, inputs):\n",
    "    weighted_sum = np.dot(self.weights, inputs) + self.bias\n",
    "    output = self.activation_function(weighted_sum)\n",
    "    return output\n",
    "\n",
    "def sigmoid(x):\n",
    "  return 1 / (1 + np.exp(-x))\n",
    "\n",
    "def relu(x):\n",
    "  return max(0, x)\n",
    "\n",
    "def tanh(x):\n",
    "  return np.tanh(x)\n",
    "\n",
    "def xor_network(input1, input2):\n",
    "  h1 = Neuron(np.array([1, 1]), -1, relu)\n",
    "  h2 = Neuron(np.array([-1, 1]), 0, tanh)\n",
    "  output_neuron = Neuron(np.array([1, -1]), 1, sigmoid)\n",
    "\n",
    "  hidden_output1 = h1.activate(np.array([input1, input2]))\n",
    "  hidden_output2 = h2.activate(np.array([input1, input2]))\n",
    "  final_output = output_neuron.activate(np.array([hidden_output1, hidden_output2]))\n",
    "  return final_output\n",
    "\n",
    "input1 = int(input(\"Enter input 1 (0 or 1): \"))\n",
    "input2 = int(input(\"Enter input 2 (0 or 1): \"))\n",
    "\n",
    "output = xor_network(input1, input2)\n",
    "print(f\"Input: {input1}, {input2}, Output: {output}\")"
   ]
  },
  {
   "cell_type": "code",
   "execution_count": 9,
   "id": "def88603",
   "metadata": {},
   "outputs": [
    {
     "name": "stdout",
     "output_type": "stream",
     "text": [
      "Sigmoid Output:\n",
      "[0.52620477 0.71389789 0.57938276 0.75578649]\n",
      "ReLU Output:\n",
      "[0.4037696  1.21869659 0.78617976 1.60110675]\n",
      "Tanh Output:\n",
      "[0.05175939 0.183319   0.29078894 0.40785635]\n"
     ]
    }
   ],
   "source": [
    "import numpy as np\n",
    "\n",
    "class Neuron:\n",
    "    def __init__(self, n_inputs, activation_function):\n",
    "        self.n_inputs = n_inputs\n",
    "        self.weights = np.random.rand(n_inputs)\n",
    "        self.bias = np.random.rand(1)\n",
    "        self.activation_function = activation_function\n",
    "\n",
    "    def forward_pass(self, inputs):\n",
    "        weighted_sum = np.dot(inputs, self.weights) + self.bias\n",
    "        output = self.activation_function(weighted_sum)\n",
    "        return output\n",
    "\n",
    "    def sigmoid(self, x):\n",
    "        return 1 / (1 + np.exp(-x))\n",
    "\n",
    "    def relu(self, x):\n",
    "        return np.maximum(x, 0)\n",
    "\n",
    "    def tanh(self, x):\n",
    "        return np.tanh(x)\n",
    "\n",
    "neuron = Neuron(n_inputs=2, activation_function=lambda x: neuron.sigmoid(x))\n",
    "\n",
    "neuron_relu = Neuron(n_inputs=2, activation_function=lambda x: neuron_relu.relu(x))\n",
    "\n",
    "neuron_tanh = Neuron(n_inputs=2, activation_function=lambda x: neuron_tanh.tanh(x))\n",
    "\n",
    "inputs = np.array([[0, 0], [0, 1], [1, 0], [1, 1]])\n",
    "\n",
    "outputs_sigmoid = neuron.forward_pass(inputs)\n",
    "outputs_relu = neuron_relu.forward_pass(inputs)\n",
    "outputs_tanh = neuron_tanh.forward_pass(inputs)\n",
    "\n",
    "print(\"Sigmoid Output:\")\n",
    "print(outputs_sigmoid)\n",
    "\n",
    "print(\"ReLU Output:\")\n",
    "print(outputs_relu)\n",
    "\n",
    "print(\"Tanh Output:\")\n",
    "print(outputs_tanh)"
   ]
  },
  {
   "cell_type": "code",
   "execution_count": null,
   "id": "c615b85a",
   "metadata": {},
   "outputs": [],
   "source": []
  }
 ],
 "metadata": {
  "kernelspec": {
   "display_name": "Python 3 (ipykernel)",
   "language": "python",
   "name": "python3"
  },
  "language_info": {
   "codemirror_mode": {
    "name": "ipython",
    "version": 3
   },
   "file_extension": ".py",
   "mimetype": "text/x-python",
   "name": "python",
   "nbconvert_exporter": "python",
   "pygments_lexer": "ipython3",
   "version": "3.9.12"
  }
 },
 "nbformat": 4,
 "nbformat_minor": 5
}
